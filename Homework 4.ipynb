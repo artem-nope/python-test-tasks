{
 "cells": [
  {
   "cell_type": "markdown",
   "id": "693dc9e9",
   "metadata": {},
   "source": [
    "<b><div style=\"text-align: center;font-size: 24px;\">Послідовність чисел 2 🌶️</div></b><br>\n",
    "    \n",
    "Дано два цілих числа m і n. Напишіть програму, яка виводить усі числа від m до n включно у порядку зростання, якщо m<n, або у порядку спадання в іншому випадку.\n",
    "\n",
    "<b>Sample Input 1</b><br>\n",
    "1\n",
    "5\n",
    "\n",
    "<b>Sample Output 1</b><br> \n",
    "1\n",
    "2\n",
    "3\n",
    "4\n",
    "5\n",
    "\n",
    "<br><br>\n",
    "<b>Sample Input 2</b><br>\n",
    "7\n",
    "3\n",
    "\n",
    "<b>Sample Output 2</b><br> \n",
    "7\n",
    "6\n",
    "5\n",
    "4\n",
    "3"
   ]
  },
  {
   "cell_type": "code",
   "execution_count": 3,
   "id": "0ba527df",
   "metadata": {},
   "outputs": [
    {
     "name": "stdout",
     "output_type": "stream",
     "text": [
      "7\n",
      "3\n",
      "7 6 5 4 3\n"
     ]
    }
   ],
   "source": [
    "num1 = int(input())\n",
    "num2 = int(input())\n",
    "if num1 < num2:\n",
    "    print(*[i for i in range(num1, num2 + 1)])\n",
    "else:\n",
    "    print(*sorted([i for i in range(num2, num1 + 1)], reverse=True))"
   ]
  },
  {
   "cell_type": "markdown",
   "id": "05c4d420",
   "metadata": {},
   "source": [
    "<b><div style=\"text-align: center;font-size: 24px;\">Сума дільників</div></b><br>\n",
    "    \n",
    "На вхід програмі подається натуральне число n. Напишіть програму, яка обчислює суму всіх дільників.\n",
    "\n",
    "<b>Sample Input</b><br>\n",
    "10\n",
    "\n",
    "<b>Sample Output</b><br> \n",
    "18\n"
   ]
  },
  {
   "cell_type": "code",
   "execution_count": 6,
   "id": "f560c242",
   "metadata": {},
   "outputs": [
    {
     "name": "stdout",
     "output_type": "stream",
     "text": [
      "10\n",
      "18\n"
     ]
    }
   ],
   "source": [
    "num = int(input())\n",
    "divs = 0\n",
    "for i in range(1, num + 1):\n",
    "    if num % i == 0:\n",
    "        divs += i\n",
    "print(divs)"
   ]
  },
  {
   "cell_type": "markdown",
   "id": "de3582e9",
   "metadata": {},
   "source": [
    "<b><div style=\"text-align: center;font-size: 24px;\">Найбільші числа 🌶️🌶️</div></b><br>\n",
    "    \n",
    "На вхід програмі подається натуральне число n, а потім n різних натуральних чисел послідовності, кожне на окремому рядку. Напишіть програму, яка виводить найбільше та друге найбільше число послідовності.\n",
    "\n",
    "<b>Sample Input</b><br>\n",
    "5  \n",
    "\n",
    "1  \n",
    "2  \n",
    "3  \n",
    "4  \n",
    "5  \n",
    "\n",
    "<b>Sample Output</b><br> \n",
    "4  \n",
    "5\n",
    "\n",
    "\n",
    "\n"
   ]
  },
  {
   "cell_type": "code",
   "execution_count": 12,
   "id": "584227c5",
   "metadata": {},
   "outputs": [
    {
     "name": "stdout",
     "output_type": "stream",
     "text": [
      "5\n",
      "1\n",
      "2\n",
      "3\n",
      "4\n",
      "5\n",
      "4\n",
      "5\n"
     ]
    }
   ],
   "source": [
    "num = int(input())\n",
    "lst = [int(input()) for i in range(num)]\n",
    "lst.sort()\n",
    "print(*lst[-2:], sep='\\n')"
   ]
  },
  {
   "cell_type": "markdown",
   "id": "a895c567",
   "metadata": {},
   "source": [
    "<b><div style=\"text-align: center;font-size: 24px;\">Послідовність Фібоначчі 🌶️</div></b><br>\n",
    "    \n",
    "Напишіть програму, яка зчитує натуральне число n і виводить перші n чисел послідовності Фібоначчі.\n",
    "\n",
    "<b>Примітка.</b> Послідовність Фібоначчі – це послідовність натуральних чисел, де кожне наступне число є сумою двох попередніх:\n",
    "\n",
    "<b>Sample Input</b><br>\n",
    "5   \n",
    "\n",
    "<b>Sample Output</b><br> \n",
    "1 1 2 3 5\n",
    "\n",
    "\n",
    "\n",
    "\n",
    "\n",
    "\n"
   ]
  },
  {
   "cell_type": "code",
   "execution_count": 13,
   "id": "b2481b7e",
   "metadata": {},
   "outputs": [
    {
     "name": "stdout",
     "output_type": "stream",
     "text": [
      "5\n",
      "1 1 2 3 5\n"
     ]
    }
   ],
   "source": [
    "def fibo(num):\n",
    "    lst = []\n",
    "    first = 0\n",
    "    second = 1\n",
    "    cnt = 0\n",
    "    while cnt < num:\n",
    "        lst.append(second)\n",
    "        first, second = second, first + second\n",
    "        cnt += 1\n",
    "    return lst\n",
    "\n",
    "\n",
    "num = int(input())\n",
    "print(*fibo(num))"
   ]
  },
  {
   "cell_type": "markdown",
   "id": "ea2d3f9e",
   "metadata": {},
   "source": [
    "<b><div style=\"text-align: center;font-size: 24px;\">Дотримуйся правил</div></b><br>\n",
    "    \n",
    "На вхід програмі подається натуральне число n. Напишіть програму, яка виводить числа від 1 до n включно за винятком: \n",
    "\n",
    "- чисел від 5 до 9 включно; \n",
    "- чисел від 17 до 37 включно; \n",
    "- чисел від 78 до 87 включно.\n",
    "\n",
    "<b>Примітка.</b> Використовуйте оператор continue.\n",
    "\n",
    "<b>Sample Input</b><br>\n",
    "20  \n",
    "\n",
    "<b>Sample Output</b><br> \n",
    "1  \n",
    "2  \n",
    "3  \n",
    "4  \n",
    "10  \n",
    "11  \n",
    "12  \n",
    "13  \n",
    "14  \n",
    "15  \n",
    "16  \n",
    "\n",
    "\n",
    "\n"
   ]
  },
  {
   "cell_type": "code",
   "execution_count": 14,
   "id": "9185104a",
   "metadata": {},
   "outputs": [
    {
     "name": "stdout",
     "output_type": "stream",
     "text": [
      "20\n",
      "1\n",
      "2\n",
      "3\n",
      "4\n",
      "10\n",
      "11\n",
      "12\n",
      "13\n",
      "14\n",
      "15\n",
      "16\n"
     ]
    }
   ],
   "source": [
    "num = int(input())\n",
    "for i in range(1, num + 1):\n",
    "    if 5 <= i <= 9 or 17 <= i <= 37 or 78 <= i <= 87:\n",
    "        continue;\n",
    "    print(i)"
   ]
  },
  {
   "cell_type": "markdown",
   "id": "5a6cba25",
   "metadata": {},
   "source": [
    "<b><div style=\"text-align: center;font-size: 24px;\">Всі разом</div></b><br>\n",
    "    \n",
    "Дано натуральне число. Напишіть програму, яка обчислює:\n",
    "\n",
    "- кількість цифр 3 у ньому;\n",
    "- скільки разів у ньому зустрічається остання цифра;\n",
    "- кількість парних цифр;\n",
    "- суму його цифр, більших за п'ять;\n",
    "- добуток цифр, більших семи (якщо цифр більших семи немає, то вивести 1, якщо така цифра одна, то вивести її);\n",
    "- скільки разів у ньому зустрічається цифри 0 та 5 (всього сумарно).\n",
    "\n",
    "\n",
    "<b>Sample Input</b><br>\n",
    "56689932106  \n",
    "\n",
    "<b>Sample Output</b><br> \n",
    "1  \n",
    "3  \n",
    "6  \n",
    "44  \n",
    "648  \n",
    "2   \n",
    "\n",
    "\n",
    "\n",
    "\n",
    "\n",
    "\n",
    "\n",
    "\n",
    "\n"
   ]
  },
  {
   "cell_type": "code",
   "execution_count": 24,
   "id": "298f3e6a",
   "metadata": {},
   "outputs": [
    {
     "name": "stdout",
     "output_type": "stream",
     "text": [
      "56689932106\n",
      "1\n",
      "3\n",
      "6\n",
      "44\n",
      "648\n",
      "2\n"
     ]
    }
   ],
   "source": [
    "num = input()\n",
    "three = num.count('3')\n",
    "last = num.count(num[-1])\n",
    "even = 0\n",
    "sum_more_five = 0\n",
    "mult_more_seven = 1\n",
    "zero_and_five = num.count('0') + num.count('5')\n",
    "for i in num:\n",
    "    if int(i) % 2 == 0:\n",
    "        even += 1\n",
    "    if int(i) > 5:\n",
    "        sum_more_five += int(i)\n",
    "    if int(i) > 7:\n",
    "        mult_more_seven *= int(i)\n",
    "    \n",
    "print(three)\n",
    "print(last)\n",
    "print(even)\n",
    "print(sum_more_five)\n",
    "print(mult_more_seven)\n",
    "print(zero_and_five)"
   ]
  },
  {
   "cell_type": "markdown",
   "id": "13d6cd6a",
   "metadata": {},
   "source": [
    "<b><div style=\"text-align: center;font-size: 24px;\">Цікавинка 🌶️</div></b><br>\n",
    "\n",
    "Вибір елементів, сума яких є парним числом. \n",
    "\n",
    "<b>Sample Input</b><br>\n",
    "[10, 20, 30, 40, 50]  \n",
    "[3, 6, 9, 12, 15]\n",
    "  \n",
    "\n",
    "<b>Sample Output</b><br> \n",
    "[(20, 6), (40, 12)]"
   ]
  },
  {
   "cell_type": "code",
   "execution_count": 36,
   "id": "367e939d",
   "metadata": {},
   "outputs": [
    {
     "name": "stdout",
     "output_type": "stream",
     "text": [
      "10 20 30 40 50\n",
      "3 6 9 12 15\n",
      "[(20, 6), (40, 12)]\n"
     ]
    }
   ],
   "source": [
    "lst1 = list(map(int, input().split()))\n",
    "lst2 = list(map(int, input().split()))\n",
    "result = []\n",
    "for n1, n2 in zip(lst1, lst2):\n",
    "    if (n1 + n2) % 2 == 0:\n",
    "        t_res = (n1, n2)\n",
    "        result.append(t_res)\n",
    "print(result)"
   ]
  },
  {
   "cell_type": "code",
   "execution_count": null,
   "id": "eca7f07f",
   "metadata": {},
   "outputs": [],
   "source": []
  }
 ],
 "metadata": {
  "kernelspec": {
   "display_name": "Python 3 (ipykernel)",
   "language": "python",
   "name": "python3"
  },
  "language_info": {
   "codemirror_mode": {
    "name": "ipython",
    "version": 3
   },
   "file_extension": ".py",
   "mimetype": "text/x-python",
   "name": "python",
   "nbconvert_exporter": "python",
   "pygments_lexer": "ipython3",
   "version": "3.11.4"
  }
 },
 "nbformat": 4,
 "nbformat_minor": 5
}
