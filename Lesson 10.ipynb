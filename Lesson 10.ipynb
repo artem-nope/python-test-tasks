{
 "cells": [
  {
   "cell_type": "markdown",
   "id": "9cf0ed16",
   "metadata": {},
   "source": [
    "<b><div style=\"text-align: center;font-size: 24px;\">Книги на прочитання 🌶️</div></b><br>\n",
    "\n",
    "Учні 10 класу онлайн-школи отримали завдання прочитати на літніх канікулах три книги:\n",
    "\n",
    "- \"Що таке математика?\";\n",
    "- \"Математична складова\";\n",
    "- \"100 геніальних ідей з математики\".\n",
    "\n",
    "Виявилося що n учнів прочитали першу книгу m учнів - другу, k учнів - третю. Також відомо, що x учнів прочитали першу чи другу, або обидві ці книги, y учнів - другу або третю, або обидві, z учнів — першу та третю, або хоча б одну з цих двох книг. Повністю виконали завдання лише t учнів. Всього в 10 класі вчиться a учнів. Напишіть програму, яка виводить скільки учнів:\n",
    "\n",
    "- прочитали лише одну книгу;\n",
    "- прочитали дві книги;\n",
    "- не прочитали жодної із рекомендованих книг.\n",
    "\n",
    "**Формат вхідних даних**\n",
    "На вхід до програми подаються числа n,m,k,x,y,z,t,a, кожне на окремому рядку.\n",
    "\n",
    "**Формат вихідних даних**\n",
    "Програма повинна вивести три числа відповідно до умови завдання, кожне на окремому рядку.\n",
    "\n",
    "\n",
    "\n",
    "\n",
    "<b>Sample Input</b><br>\n",
    "19  \n",
    "18   \n",
    "22  \n",
    "32  \n",
    "33  \n",
    "35  \n",
    "2  \n",
    "50    \n",
    "\n",
    "<b>Sample Output</b><br> \n",
    "29  \n",
    "12  \n",
    "7  \n",
    "\n",
    "\n",
    "\n"
   ]
  },
  {
   "cell_type": "code",
   "execution_count": 28,
   "id": "daf55784",
   "metadata": {},
   "outputs": [
    {
     "name": "stdout",
     "output_type": "stream",
     "text": [
      "19\n",
      "18\n",
      "22\n",
      "32\n",
      "33\n",
      "35\n",
      "2\n",
      "50\n",
      "\n",
      "29\n",
      "12\n",
      "7\n"
     ]
    }
   ],
   "source": [
    "n = int(input())\n",
    "m = int(input())\n",
    "k = int(input())\n",
    "x = int(input())\n",
    "y = int(input())\n",
    "z = int(input())\n",
    "t = int(input())\n",
    "a = int(input())\n",
    "\n",
    "nm = n + m - x - t\n",
    "nk = n + k - z - t\n",
    "mk = m + k - y - t\n",
    "n_sum = n - nm - nk - t\n",
    "m_sum = m - nm - mk - t\n",
    "k_sum = k - nk - mk - t\n",
    "print()\n",
    "print(n_sum + m_sum + k_sum)\n",
    "print(nm + nk + mk)\n",
    "print(a - t - (n_sum + m_sum + k_sum) - (nm + nk + mk))\n"
   ]
  },
  {
   "cell_type": "markdown",
   "id": "ad0d057b",
   "metadata": {},
   "source": [
    "<b><div style=\"text-align: center;font-size: 24px;\">Кількість різних символів</div></b><br>\n",
    "\n",
    "На вхід до програми подається рядок тексту. Напишіть програму, яка визначає кількість різних символів у рядку.\n",
    "\n",
    "<b>Sample Input</b><br>\n",
    "12345678910  \n",
    "\n",
    "<b>Sample Output</b><br> \n",
    "10\n",
    "\n",
    "\n",
    "\n"
   ]
  },
  {
   "cell_type": "code",
   "execution_count": 1,
   "id": "734351a2",
   "metadata": {},
   "outputs": [
    {
     "name": "stdout",
     "output_type": "stream",
     "text": [
      "12345678910\n",
      "10\n"
     ]
    }
   ],
   "source": [
    "str_in = input()\n",
    "str_set = set(str_in)\n",
    "print(len(str_set))"
   ]
  },
  {
   "cell_type": "markdown",
   "id": "7bc83ab0",
   "metadata": {},
   "source": [
    "<b><div style=\"text-align: center;font-size: 24px;\">Неповторні цифри</div></b><br>\n",
    "\n",
    "На вхід до програми подається рядок, що складається з цифр. Потрібно визначити, чи правильно, що в її записі жодна з цифр не повторюється?\n",
    "\n",
    "<b>Sample Input 1</b><br>\n",
    "1093482\n",
    "\n",
    "<b>Sample Output 1</b><br> \n",
    "YES\n",
    "\n",
    "<br><br>\n",
    "\n",
    "<b>Sample Input 2</b><br>\n",
    "3445321290\n",
    "\n",
    "<b>Sample Output 2</b><br> \n",
    "NO\n",
    "\n",
    "\n",
    "\n"
   ]
  },
  {
   "cell_type": "code",
   "execution_count": 5,
   "id": "4a5c6899",
   "metadata": {},
   "outputs": [
    {
     "name": "stdout",
     "output_type": "stream",
     "text": [
      "3445321290\n",
      "NO\n"
     ]
    }
   ],
   "source": [
    "str_in = input()\n",
    "set_in = set(str_in)\n",
    "cnt = 0\n",
    "for i in set_in:\n",
    "    if str_in.count(i) > 1:\n",
    "        cnt += 1\n",
    "        break\n",
    "print('YES' if cnt == 0 else 'NO')"
   ]
  },
  {
   "cell_type": "markdown",
   "id": "d76eef68",
   "metadata": {},
   "source": [
    "<b><div style=\"text-align: center;font-size: 24px;\">Однакові набори</div></b><br>\n",
    "\n",
    "На вхід до програми подаються два рядки, що складаються з цифр. Потрібно визначити, чи правильно, що для запису цих рядків були використані однакові набори цифр?\n",
    "\n",
    "<b>Sample Input</b><br>\n",
    "0943  \n",
    "9304  \n",
    "\n",
    "<b>Sample Output</b><br> \n",
    "YES\n",
    "\n",
    "\n",
    "\n",
    "\n"
   ]
  },
  {
   "cell_type": "code",
   "execution_count": 8,
   "id": "5871d6c8",
   "metadata": {},
   "outputs": [
    {
     "name": "stdout",
     "output_type": "stream",
     "text": [
      "0943\n",
      "9304\n",
      "YES\n"
     ]
    }
   ],
   "source": [
    "st1 = input()\n",
    "st2 = input()\n",
    "print('YES' if sorted(st1) == sorted(st2) else 'NO')"
   ]
  },
  {
   "cell_type": "markdown",
   "id": "c37d04bb",
   "metadata": {},
   "source": [
    "<b><div style=\"text-align: center;font-size: 24px;\">Чи зустрічалося число раніше?</div></b><br>\n",
    "\n",
    "На вхід до програми подається рядок тексту, що містить числа. Для кожного числа виведіть слово YES (в окремому рядку), якщо це число раніше зустрічалося в послідовності або NO, якщо не траплялося.\n",
    "\n",
    "<b>Sample Input</b><br>\n",
    "1 1 2 2 5 5 5 5 6 7 8 \n",
    "\n",
    "<b>Sample Output</b><br> \n",
    "NO  \n",
    "YES  \n",
    "NO  \n",
    "YES  \n",
    "NO  \n",
    "YES  \n",
    "YES  \n",
    "YES  \n",
    "NO  \n",
    "NO  \n",
    "NO  \n",
    "\n",
    "\n",
    "\n",
    "\n"
   ]
  },
  {
   "cell_type": "code",
   "execution_count": 9,
   "id": "cd4da9de",
   "metadata": {},
   "outputs": [
    {
     "name": "stdout",
     "output_type": "stream",
     "text": [
      "1 1 2 2 5 5 5 5 6 7 8\n",
      "NO\n",
      "YES\n",
      "NO\n",
      "YES\n",
      "NO\n",
      "YES\n",
      "YES\n",
      "YES\n",
      "NO\n",
      "NO\n",
      "NO\n"
     ]
    }
   ],
   "source": [
    "lst = input().split()\n",
    "for i in range(len(lst)):\n",
    "    if lst[i] in lst[:i]:\n",
    "        print('YES')\n",
    "    else:\n",
    "        print('NO')"
   ]
  },
  {
   "cell_type": "markdown",
   "id": "a89d6c74",
   "metadata": {},
   "source": [
    "<b><div style=\"text-align: center;font-size: 24px;\">Загальні числа</div></b><br>\n",
    "\n",
    "На вхід до програми подаються два рядки тексту, що містять числа. Напишіть програму, яка виводить усі числа у порядку зростання, які є як у першому рядку, так і у другому.\n",
    "\n",
    "<b>Sample Input</b><br>\n",
    "1 2 3  \n",
    "1 2 4 5  \n",
    "\n",
    "<b>Sample Output</b><br> \n",
    "1 2\n",
    "\n"
   ]
  },
  {
   "cell_type": "code",
   "execution_count": 13,
   "id": "811cbbe1",
   "metadata": {},
   "outputs": [
    {
     "name": "stdout",
     "output_type": "stream",
     "text": [
      "1 2 3\n",
      "1 2 4 5\n",
      "1 2\n"
     ]
    }
   ],
   "source": [
    "st1 = input().split()\n",
    "st2 = input().split()\n",
    "print(*sorted(list(set(st1) & set(st2))))"
   ]
  },
  {
   "cell_type": "markdown",
   "id": "4f9973c7",
   "metadata": {},
   "source": [
    "<b><div style=\"text-align: center;font-size: 24px;\">Схід</div></b><br>\n",
    "\n",
    "На супутнику \"Схід\" встановлений прилад для вимірювання сонячної активності. Щохвилини він передає в обсерваторію каналом зв'язку позитивне ціле число — кількість енергії сонячного випромінювання. Для правильного аналізу результатів немає необхідності тримати дані, що повторюються. Напишіть програму, яка виводить максимальну кількість свідчень супутника, при видаленні яких результат буде правильно проаналізовано.\n",
    "\n",
    "<b>Sample Input</b><br>\n",
    "10 20 30 10 40\n",
    "\n",
    "<b>Sample Output</b><br> \n",
    "1\n",
    "\n"
   ]
  },
  {
   "cell_type": "code",
   "execution_count": 15,
   "id": "3666d4ce",
   "metadata": {},
   "outputs": [
    {
     "name": "stdout",
     "output_type": "stream",
     "text": [
      "10 20 30 10 40\n",
      "1\n"
     ]
    }
   ],
   "source": [
    "lst = list(map(int, input().split()))\n",
    "print(lst.count(max(lst)))\n"
   ]
  },
  {
   "cell_type": "markdown",
   "id": "0a4fc8e6",
   "metadata": {},
   "source": [
    "<b><div style=\"text-align: center;font-size: 24px;\">Книги на прочитання</div></b><br>\n",
    "\n",
    "Руслан отримав наприкінці навчального року список літератури на літо. Тепер йому треба з'ясувати, які книги з цього списку має. У Руслана на комп'ютері в текстовому файлі записані всі книги з його домашньої бібліотеки випадково.\n",
    "\n",
    "Напишіть програму, яка визначає для кожної книги зі списку на прочитання, є вона у Руслана чи ні.\n",
    "\n",
    "**Формат вхідних даних**\n",
    "На вхід програмі в першому рядку подається натуральне число m – кількість книг у домашній бібліотеці Руслана. У другому рядку записано натуральне число n - кількість книг у списку на літо. Далі йдуть m рядків з назвами книг із домашньої бібліотеки та n рядків назв зі списку на літо.\n",
    "\n",
    "**Формат вихідних даних**\n",
    "Програма має вивести n рядків, у кожному з яких написано слово YES, якщо книга знайдена у бібліотеці, та NO, якщо ні.\n",
    "\n",
    "<b>Sample Input</b><br>\n",
    "4  \n",
    "4  \n",
    "Хобіт  \n",
    "Аліса в країні чудес  \n",
    "Том Сойєр  \n",
    "Острів скарбів  \n",
    "Буратіно  \n",
    "Хобіт  \n",
    "Острів скарбів  \n",
    "Війна і мир   \n",
    "\n",
    "<b>Sample Output</b><br> \n",
    "NO  \n",
    "YES  \n",
    "YES  \n",
    "NO  \n"
   ]
  },
  {
   "cell_type": "code",
   "execution_count": 21,
   "id": "be5bf28f",
   "metadata": {},
   "outputs": [
    {
     "name": "stdout",
     "output_type": "stream",
     "text": [
      "4\n",
      "4\n",
      "Хобіт\n",
      "Аліса в країні чудес\n",
      "Том Сойєр\n",
      "Острів скарбів\n",
      "Буратіно\n",
      "Хобіт\n",
      "Острів скарбів\n",
      "Війна і мир\n",
      "NO\n",
      "YES\n",
      "YES\n",
      "NO\n"
     ]
    }
   ],
   "source": [
    "m = int(input())\n",
    "n = int(input())\n",
    "lst_m = [input() for i in range(m)]\n",
    "lst_n = [input() for i in range(n)]\n",
    "\n",
    "for i in lst_n:\n",
    "    if i in lst_m:\n",
    "        print('YES')\n",
    "    else:\n",
    "        print('NO')\n"
   ]
  },
  {
   "cell_type": "code",
   "execution_count": null,
   "id": "e9d80582",
   "metadata": {},
   "outputs": [],
   "source": []
  }
 ],
 "metadata": {
  "kernelspec": {
   "display_name": "Python 3 (ipykernel)",
   "language": "python",
   "name": "python3"
  },
  "language_info": {
   "codemirror_mode": {
    "name": "ipython",
    "version": 3
   },
   "file_extension": ".py",
   "mimetype": "text/x-python",
   "name": "python",
   "nbconvert_exporter": "python",
   "pygments_lexer": "ipython3",
   "version": "3.11.4"
  }
 },
 "nbformat": 4,
 "nbformat_minor": 5
}
