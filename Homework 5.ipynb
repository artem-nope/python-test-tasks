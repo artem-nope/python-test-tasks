{
 "cells": [
  {
   "cell_type": "markdown",
   "id": "0596b13b",
   "metadata": {},
   "source": [
    "<b><div style=\"text-align: center;font-size: 24px;\">Заголовні букви</div></b><br>\n",
    "\n",
    "На вхід програмі подається рядок, що складається з імені та прізвища людини, розділених одним пропуском. Напишіть програму, яка перевіряє, що ім'я та прізвище починаються з великої літери.\n",
    "\n",
    "\n",
    "<b>Sample Input 1</b><br>\n",
    "chris alan\n",
    "\n",
    "<b>Sample Output 1</b><br> \n",
    "NO\n",
    "\n",
    "<br><br>\n",
    "<b>Sample Input 2</b><br>\n",
    "Chris Alan\n",
    "\n",
    "<b>Sample Output 2</b><br> \n",
    "YES"
   ]
  },
  {
   "cell_type": "code",
   "execution_count": 2,
   "id": "001bf29b",
   "metadata": {},
   "outputs": [
    {
     "name": "stdout",
     "output_type": "stream",
     "text": [
      "Chris Alan\n",
      "YES\n"
     ]
    }
   ],
   "source": [
    "str_lst = input().split()\n",
    "if str_lst[0][0].isupper() and str_lst[1][0].isupper():\n",
    "    print('YES')\n",
    "else:\n",
    "    print('NO')"
   ]
  },
  {
   "cell_type": "markdown",
   "id": "b861d5ab",
   "metadata": {},
   "source": [
    "<b><div style=\"text-align: center;font-size: 24px;\">sWAP cASE</div></b><br>\n",
    "\n",
    "На вхід до програми подається рядок. Напишіть програму, яка змінює регістр символів, тобто замініть всі малі символи великими і навпаки.\n",
    "\n",
    "\n",
    "<b>Sample Input </b><br>\n",
    "Swap Case\n",
    "\n",
    "<b>Sample Output</b><br> \n",
    "sWAP cASE"
   ]
  },
  {
   "cell_type": "code",
   "execution_count": 3,
   "id": "98399625",
   "metadata": {},
   "outputs": [
    {
     "name": "stdout",
     "output_type": "stream",
     "text": [
      "Swap Case\n",
      "sWAP cASE\n"
     ]
    }
   ],
   "source": [
    "str_in = input()\n",
    "print(str_in.swapcase())"
   ]
  },
  {
   "cell_type": "markdown",
   "id": "dec7f149",
   "metadata": {},
   "source": [
    "<b><div style=\"text-align: center;font-size: 24px;\">нижній регістр</div></b><br>\n",
    "\n",
    "На вхід до програми подається рядок. Напишіть програму, яка підраховує кількість літерних символів у нижньому регістрі.\n",
    "\n",
    "\n",
    "<b>Sample Input</b><br>\n",
    "2376423745dhdhdPPPP\n",
    "\n",
    "<b>Sample Output</b><br> \n",
    "5\n",
    "\n",
    "\n"
   ]
  },
  {
   "cell_type": "code",
   "execution_count": 4,
   "id": "97efcba9",
   "metadata": {},
   "outputs": [
    {
     "name": "stdout",
     "output_type": "stream",
     "text": [
      "2376423745dhdhdPPPP\n",
      "5\n"
     ]
    }
   ],
   "source": [
    "str_in = input()\n",
    "low_symbol = 0\n",
    "for i in str_in:\n",
    "    if i.isalpha() and i.islower():\n",
    "        low_symbol += 1\n",
    "print(low_symbol)"
   ]
  },
  {
   "cell_type": "markdown",
   "id": "6c414595",
   "metadata": {},
   "source": [
    "<b><div style=\"text-align: center;font-size: 24px;\">Кількість слів</div></b><br>\n",
    "\n",
    "На вхід програмі подається рядок тексту, що складається зі слів, розділених рівно одним пропуском. Напишіть програму, яка підраховує кількість слів у ній.\n",
    "\n",
    "\n",
    "<b>Sample Input</b><br>\n",
    "Hello world\n",
    "\n",
    "<b>Sample Output</b><br> \n",
    "2\n",
    "\n",
    "\n"
   ]
  },
  {
   "cell_type": "code",
   "execution_count": 5,
   "id": "7d078858",
   "metadata": {},
   "outputs": [
    {
     "name": "stdout",
     "output_type": "stream",
     "text": [
      "Hello world\n",
      "2\n"
     ]
    }
   ],
   "source": [
    "str_in = input().split()\n",
    "print(len(str_in))"
   ]
  },
  {
   "cell_type": "markdown",
   "id": "fdbb9fe4",
   "metadata": {},
   "source": [
    "<b><div style=\"text-align: center;font-size: 24px;\">Хвилинка генетики</div></b><br>\n",
    "\n",
    "На вхід до програми подається рядок генетичного коду, що складається з літер А (аденін), Г (гуанін), Ц (цитозин), Т (тимін). Напишіть програму, яка підраховує скільки аденіну, гуаніну, цитозину і тиміну входить у цей рядок генетичного коду.\n",
    "\n",
    "\n",
    "<b>Sample Input</b><br>\n",
    "АааГГЦЦцТТттт\n",
    "\n",
    "<b>Sample Output</b><br> \n",
    "Аденін: 3  \n",
    "Гуанін: 2  \n",
    "Цитозин: 3  \n",
    "Тімін: 5\n",
    "\n",
    "\n",
    "\n",
    "\n"
   ]
  },
  {
   "cell_type": "code",
   "execution_count": 13,
   "id": "7676372e",
   "metadata": {},
   "outputs": [
    {
     "name": "stdout",
     "output_type": "stream",
     "text": [
      "АааГГЦЦцТТттт\n",
      "Аденін: 3\n",
      "Гуанін: 2\n",
      "Цитозин: 3\n",
      "Тімін: 5\n"
     ]
    }
   ],
   "source": [
    "str_in = input()\n",
    "a = str_in.lower().count('а')\n",
    "g = str_in.lower().count('г')\n",
    "c = str_in.lower().count('ц')\n",
    "t = str_in.lower().count('т')\n",
    "print(f'Аденін: {a}')\n",
    "print(f'Гуанін: {g}')\n",
    "print(f'Цитозин: {c}')\n",
    "print(f'Тімін: {t}')"
   ]
  },
  {
   "cell_type": "markdown",
   "id": "bd4cfa1d",
   "metadata": {},
   "source": [
    "<b><div style=\"text-align: center;font-size: 24px;\">Видалення фрагмента</div></b><br>\n",
    "\n",
    "На вхід до програми подається рядок тексту, в якому літера «h» зустрічається щонайменше двічі. Напишіть програму, яка видаляє з цього рядка перше та останнє входження літери «h», а також усі символи, що знаходяться між ними.\n",
    "\n",
    "\n",
    "<b>Sample Input</b><br>\n",
    "ahahahahaha\n",
    "\n",
    "<b>Sample Output</b><br> \n",
    "aa\n",
    "\n",
    "\n",
    "\n",
    "\n",
    "\n"
   ]
  },
  {
   "cell_type": "code",
   "execution_count": 15,
   "id": "e783a8b4",
   "metadata": {},
   "outputs": [
    {
     "name": "stdout",
     "output_type": "stream",
     "text": [
      "ahahahahahasdf\n",
      "aasdf\n"
     ]
    }
   ],
   "source": [
    "str_in = input()\n",
    "print(str_in[:str_in.find('h')] + str_in[str_in.rfind('h') + 1:])"
   ]
  },
  {
   "cell_type": "markdown",
   "id": "8ac9f6c0",
   "metadata": {},
   "source": [
    "<b><div style=\"text-align: center;font-size: 24px;\">Перше та останнє входження</div></b><br>\n",
    "\n",
    "\n",
    "На вхід до програми подається рядок тексту. Якщо в цьому рядку літера f зустрічається тільки один раз, виведіть її індекс. Якщо вона зустрічається два і більше разів, виведіть індекс першого і останнього входження на одному рядку, розділених символом пробілу. Якщо літера \"f\" у цьому рядку не зустрічається, слід вивести \"NO\".\n",
    "\n",
    "\n",
    "<b>Sample Input</b><br>\n",
    "abcdefg\n",
    "\n",
    "<b>Sample Output</b><br> \n",
    "5\n",
    "\n",
    "\n",
    "\n",
    "\n",
    "\n"
   ]
  },
  {
   "cell_type": "code",
   "execution_count": 20,
   "id": "e6eddaff",
   "metadata": {},
   "outputs": [
    {
     "name": "stdout",
     "output_type": "stream",
     "text": [
      "abcdefg\n",
      "5\n"
     ]
    }
   ],
   "source": [
    "str_in = input()\n",
    "f_cnt = str_in.count('f')\n",
    "if f_cnt == 0:\n",
    "    print('NO')\n",
    "elif f_cnt == 1:\n",
    "    print(str_in.find('f'))\n",
    "else:\n",
    "    print(str_in.find('f'), str_in.rfind('f'), sep=' ')"
   ]
  },
  {
   "cell_type": "markdown",
   "id": "4a97d73d",
   "metadata": {},
   "source": [
    "<b><div style=\"text-align: center;font-size: 24px;\">Простий шифр</div></b><br>\n",
    "\n",
    "На вхід до програми подається рядок тексту. Напишіть програму, яка перекладає кожен її символ у відповідний код з таблиці символів Unicode.\n",
    "\n",
    "\n",
    "<b>Sample Input</b><br>\n",
    "Hello world!\n",
    "\n",
    "<b>Sample Output</b><br> \n",
    "72 101 108 108 111 32 119 111 114 108 100 33\n",
    "\n",
    "\n",
    "\n",
    "\n"
   ]
  },
  {
   "cell_type": "code",
   "execution_count": 22,
   "id": "e0c577b3",
   "metadata": {},
   "outputs": [
    {
     "name": "stdout",
     "output_type": "stream",
     "text": [
      "Hello world!\n",
      "72 101 108 108 111 32 119 111 114 108 100 33 "
     ]
    }
   ],
   "source": [
    "str_in = input()\n",
    "for i in str_in:\n",
    "    print(ord(i), end=' ')"
   ]
  },
  {
   "cell_type": "markdown",
   "id": "fffce25a",
   "metadata": {},
   "source": [
    "<b><div style=\"text-align: center;font-size: 24px;\">Шифр Цезаря 🌶️</div></b><br>\n",
    "\n",
    "Легіон Цезаря, створений у 23 столітті на основі Римської Імперії не зраджує давніх традицій і використовує шифр Цезаря. Це їх і підвело, адже цей шифр дуже простий. Однак у постапокаліпсисі люди погано знають усі тонкощі довоєнного світу, тому вчені з НКР не можуть зрозуміти, як потрібно декодувати дані повідомлення. Напишіть програму декодування цього шифру.\n",
    "\n",
    "**Формат вхідних даних**\n",
    "У першому рядку дається число (1≤ n≤ 25) – зсув, у другому рядку дається закодоване повідомлення у вигляді рядка зі малими латинськими літерами.\n",
    "\n",
    "**Формат вихідних даних**\n",
    "Програма має вивести один рядок – декодоване повідомлення. Зверніть увагу на те, що потрібно декодувати повідомлення, а не закодувати.\n",
    "\n",
    "\n",
    "<b>Sample Input</b><br>\n",
    "14  \n",
    "fsfftsfufksttskskt\n",
    "\n",
    "\n",
    "<b>Sample Output</b><br> \n",
    "rerrfergrweffewewf\n",
    "\n",
    "\n",
    "\n",
    "\n",
    "\n",
    "\n"
   ]
  },
  {
   "cell_type": "code",
   "execution_count": 25,
   "id": "7503b4d3",
   "metadata": {},
   "outputs": [
    {
     "name": "stdout",
     "output_type": "stream",
     "text": [
      "14\n",
      "fsfftsfufksttskskt\n",
      "rerrfergrweffewewf"
     ]
    }
   ],
   "source": [
    "shift = int(input())\n",
    "str_in = input()\n",
    "for ch in str_in:\n",
    "    if ord(ch) - shift < 97:\n",
    "        print(chr(ord(ch) - shift + 26), end='')\n",
    "    else:\n",
    "        print(chr(ord(ch) - shift), end='')"
   ]
  },
  {
   "cell_type": "code",
   "execution_count": null,
   "id": "141e4f1d",
   "metadata": {},
   "outputs": [],
   "source": []
  }
 ],
 "metadata": {
  "kernelspec": {
   "display_name": "Python 3 (ipykernel)",
   "language": "python",
   "name": "python3"
  },
  "language_info": {
   "codemirror_mode": {
    "name": "ipython",
    "version": 3
   },
   "file_extension": ".py",
   "mimetype": "text/x-python",
   "name": "python",
   "nbconvert_exporter": "python",
   "pygments_lexer": "ipython3",
   "version": "3.11.4"
  }
 },
 "nbformat": 4,
 "nbformat_minor": 5
}
