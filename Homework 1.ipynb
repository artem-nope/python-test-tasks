{
 "cells": [
  {
   "cell_type": "markdown",
   "id": "c567c3bc",
   "metadata": {},
   "source": [
    "<b><div style=\"text-align: center;font-size: 24px;\">Улюблена команда</div></b><br>\n",
    "    \n",
    "На вхід до програми подається рядок тексту – назва футбольної команди. Напишіть програму, яка повторює її на екрані зі словами \"- чемпіон!\" (без лапок).\n",
    "\n",
    "<b>Sample Input:</b><br>\n",
    "Барселона.<br>\n",
    "\n",
    "<b>Sample Output</b><br> \n",
    "Барселона – чемпіон!"
   ]
  },
  {
   "cell_type": "code",
   "execution_count": 1,
   "id": "d0034bd9",
   "metadata": {},
   "outputs": [
    {
     "name": "stdout",
     "output_type": "stream",
     "text": [
      "Барселона\n",
      "Барселона – чемпіон!\n"
     ]
    }
   ],
   "source": [
    "country = input()\n",
    "print(country + ' – чемпіон!')"
   ]
  },
  {
   "cell_type": "markdown",
   "id": "f2864c44",
   "metadata": {},
   "source": [
    "<b><div style=\"text-align: center;font-size: 24px;\">Кастомний роздільник</div></b><br>\n",
    "    \n",
    "Напишіть програму, яка зчитує рядок-розділювач та три рядки, а потім виводить вказані рядки через роздільник.\n",
    "\n",
    "<b>Sample Input:</b><br>\n",
    "Money often  \n",
    "costs  \n",
    "too much  \n",
    "\n",
    "<b>Sample Output</b><br> \n",
    "Money often##costs##too much\n",
    "\n"
   ]
  },
  {
   "cell_type": "code",
   "execution_count": 2,
   "id": "877ca197",
   "metadata": {},
   "outputs": [
    {
     "name": "stdout",
     "output_type": "stream",
     "text": [
      "Enter a divider: ##\n",
      "Money often\n",
      "costs\n",
      "too much\n",
      "Money often##costs##too much\n"
     ]
    }
   ],
   "source": [
    "divider = input(\"Enter a divider: \")\n",
    "str1 = input()\n",
    "str2 = input()\n",
    "str3 = input()\n",
    "print(str1, str2, str3, sep=divider)"
   ]
  },
  {
   "cell_type": "markdown",
   "id": "88415bfc",
   "metadata": {},
   "source": [
    "<b><div style=\"text-align: center;font-size: 24px;\">Значення функції</div></b><br>\n",
    "    \n",
    "Напишіть програму обчислення значення функції 3(a + b)<sup>3</sup> + 275b<sup>2</sup> - 127a - 41 за введеними цілими значеннями a i b.\n",
    " \n",
    "<b>Sample Input:</b><br>\n",
    "1  \n",
    "1\n",
    "\n",
    "<b>Sample Output</b><br> \n",
    "131"
   ]
  },
  {
   "cell_type": "code",
   "execution_count": 2,
   "id": "ba578362",
   "metadata": {},
   "outputs": [
    {
     "name": "stdout",
     "output_type": "stream",
     "text": [
      "1\n",
      "1\n",
      "131\n"
     ]
    }
   ],
   "source": [
    "a = int(input())\n",
    "b = int(input())\n",
    "res = 3 * (a + b) ** 3 + 275 * b ** 2 - 127 * a - 41\n",
    "print(res)"
   ]
  },
  {
   "cell_type": "markdown",
   "id": "339cbf67",
   "metadata": {},
   "source": [
    "<b><div style=\"text-align: center;font-size: 24px;\">Арифметичні операції</div></b><br>\n",
    "    \n",
    "Напишіть програму, в якій обчислюється сума, різниця та добуток двох цілих чисел, введених з клавіатури.\n",
    " \n",
    "<b>Sample Input:</b><br>\n",
    "2  \n",
    "7\n",
    "\n",
    "<b>Sample Output</b><br> \n",
    "2 + 7 = 9  \n",
    "2 - 7 = -5  \n",
    "2 * 7 = 14\n",
    "\n",
    "\n"
   ]
  },
  {
   "cell_type": "code",
   "execution_count": 3,
   "id": "6519dbf9",
   "metadata": {},
   "outputs": [
    {
     "name": "stdout",
     "output_type": "stream",
     "text": [
      "2\n",
      "7\n",
      "2 + 7 = 9\n",
      "2 - 7 = -5\n",
      "2 * 7 = 14\n"
     ]
    }
   ],
   "source": [
    "num1 = int(input())\n",
    "num2 = int(input())\n",
    "print(f'{num1} + {num2} = {num1 + num2}')\n",
    "print(f'{num1} - {num2} = {num1 - num2}')\n",
    "print(f'{num1} * {num2} = {num1 * num2}')"
   ]
  },
  {
   "cell_type": "markdown",
   "id": "90916856",
   "metadata": {},
   "source": [
    "<b><div style=\"text-align: center;font-size: 24px;\">Розділяй і володарюй</div></b><br>\n",
    "    \n",
    "Напишіть програму, яка зчитує ціле позитивне число x та виводить на екран послідовність чисел\n",
    "x, 2x, 3x, 4x та 5x, розділених трьома рисочками.\n",
    " \n",
    "<b>Sample Input:</b><br>\n",
    "7\n",
    "\n",
    "<b>Sample Output</b><br> \n",
    "7---14---21---28---35\n",
    "\n",
    "\n",
    "\n",
    "\n",
    "\n"
   ]
  },
  {
   "cell_type": "code",
   "execution_count": 5,
   "id": "dcd1add7",
   "metadata": {},
   "outputs": [
    {
     "name": "stdout",
     "output_type": "stream",
     "text": [
      "7\n",
      "7---14---21---28---35\n"
     ]
    }
   ],
   "source": [
    "n = int(input())\n",
    "lst = [str(n * i)for i in range(1, 6)]\n",
    "print('---'.join(lst))"
   ]
  },
  {
   "cell_type": "markdown",
   "id": "aceb7d47",
   "metadata": {},
   "source": [
    "<b><div style=\"text-align: center;font-size: 24px;\">Тризначне число</div></b><br>\n",
    "    \n",
    "Напишіть програму, в якій розраховується сума та добуток цифр позитивного тризначного числа.\n",
    " \n",
    "<b>Sample Input:</b><br>\n",
    "333\n",
    "\n",
    "<b>Sample Output</b><br> \n",
    "Сума цифр = 9  \n",
    "Добуток цифр = 27\n",
    "\n",
    "\n",
    "\n",
    "\n",
    "\n",
    "\n",
    "\n",
    "\n"
   ]
  },
  {
   "cell_type": "code",
   "execution_count": 13,
   "id": "ee5049a2",
   "metadata": {},
   "outputs": [
    {
     "name": "stdout",
     "output_type": "stream",
     "text": [
      "333\n",
      "Sun of dogots = 9\n",
      "Sun of dogots = 27\n"
     ]
    }
   ],
   "source": [
    "num = int(input())\n",
    "print(f'Sun of dogots = {(num % 10) + ((num // 10) % 10) + (num // 100)}')\n",
    "print(f'Sun of dogots = {(num % 10) * ((num // 10) % 10) * (num // 100)}')"
   ]
  },
  {
   "cell_type": "markdown",
   "id": "6a2fbb7d",
   "metadata": {},
   "source": [
    "<b><div style=\"text-align: center;font-size: 24px;\">Чотиризначна кількість</div></b><br>\n",
    "    \n",
    "Напишіть програму для знаходження цифр чотиризначного числа.\n",
    " \n",
    "<b>Sample Input:</b><br>\n",
    "3281\n",
    "\n",
    "<b>Sample Output</b><br> \n",
    "Цифра в позиції тисяч дорівнює 3  \n",
    "Цифра в позиції сотень дорівнює 2  \n",
    "Цифра в позиції десятків дорівнює 8  \n",
    "Цифра позиції одиниць дорівнює 1"
   ]
  },
  {
   "cell_type": "code",
   "execution_count": 17,
   "id": "a056eb87",
   "metadata": {},
   "outputs": [
    {
     "name": "stdout",
     "output_type": "stream",
     "text": [
      "3281\n",
      "Цифра в позиції тисяч дорівнює 3\n",
      "Цифра в позиції сотень дорівнює 2\n",
      "Цифра в позиції десятків дорівнює 8\n",
      "Цифра позиції одиниць дорівнює 1\n"
     ]
    }
   ],
   "source": [
    "num = int(input())\n",
    "print(f'Цифра в позиції тисяч дорівнює {num // 1000}\\nЦифра в позиції сотень дорівнює {num // 100 % 10 }\\nЦифра в позиції десятків дорівнює {(num % 100) // 10}\\nЦифра позиції одиниць дорівнює {num % 10}')"
   ]
  },
  {
   "cell_type": "code",
   "execution_count": null,
   "id": "3ab9135f",
   "metadata": {},
   "outputs": [],
   "source": []
  }
 ],
 "metadata": {
  "kernelspec": {
   "display_name": "Python 3 (ipykernel)",
   "language": "python",
   "name": "python3"
  },
  "language_info": {
   "codemirror_mode": {
    "name": "ipython",
    "version": 3
   },
   "file_extension": ".py",
   "mimetype": "text/x-python",
   "name": "python",
   "nbconvert_exporter": "python",
   "pygments_lexer": "ipython3",
   "version": "3.11.4"
  }
 },
 "nbformat": 4,
 "nbformat_minor": 5
}
