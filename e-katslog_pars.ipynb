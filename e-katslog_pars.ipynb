{
 "cells": [
  {
   "cell_type": "code",
   "execution_count": 19,
   "id": "f2c4120c",
   "metadata": {},
   "outputs": [],
   "source": [
    "import requests\n",
    "import pandas as pd\n",
    "from bs4 import BeautifulSoup"
   ]
  },
  {
   "cell_type": "code",
   "execution_count": 8,
   "id": "2f4bcff3",
   "metadata": {},
   "outputs": [],
   "source": [
    "url = 'https://ek.ua/ua/list/122/'"
   ]
  },
  {
   "cell_type": "code",
   "execution_count": 3,
   "id": "33ecf2fd",
   "metadata": {},
   "outputs": [],
   "source": [
    "headers = {\n",
    "    'Accept': '*/*',\n",
    "    'User-Agent': 'Mozilla/5.0 (Macintosh; Intel Mac OS X 10_15_7) AppleWebKit/537.36 (KHTML, like Gecko) Chrome/116.0.0.0 Safari/537.36'\n",
    "}"
   ]
  },
  {
   "cell_type": "code",
   "execution_count": 9,
   "id": "957c938a",
   "metadata": {},
   "outputs": [],
   "source": [
    "req = requests.get(url, headers=headers)\n",
    "soup = BeautifulSoup(req.text, 'html.parser')"
   ]
  },
  {
   "cell_type": "code",
   "execution_count": 23,
   "id": "360f687f",
   "metadata": {},
   "outputs": [
    {
     "name": "stdout",
     "output_type": "stream",
     "text": [
      "Парсинг 1 сторінки\n",
      "Парсинг 2 сторінки\n",
      "Парсинг 3 сторінки\n",
      "Парсинг 4 сторінки\n",
      "Парсинг 5 сторінки\n"
     ]
    }
   ],
   "source": [
    "dct = {\n",
    "    'Name': [],\n",
    "    'Price': [],\n",
    "    'Config': []\n",
    "}\n",
    "for i in range(1, 6):\n",
    "    url = f'https://ek.ua/ua/list/122/{i}/'\n",
    "    req = requests.get(url, headers=headers)\n",
    "    soup = BeautifulSoup(req.text, 'html.parser')\n",
    "    print(f'Парсинг {i} сторінки')\n",
    "    \n",
    "    for item in soup.find_all('div', class_='model-short-div'):\n",
    "        dct['Name'].append(item.find(class_='u').text)\n",
    "        dct['Price'].append(item.find(class_='model-price-range').text.split('.')[0])\n",
    "        dct['Config'].append(item.find(class_='list-conf-name').text)\n",
    "        "
   ]
  },
  {
   "cell_type": "code",
   "execution_count": 24,
   "id": "b3408c99",
   "metadata": {},
   "outputs": [],
   "source": [
    "df = pd.DataFrame(dct)"
   ]
  },
  {
   "cell_type": "code",
   "execution_count": 25,
   "id": "72ff0614",
   "metadata": {},
   "outputs": [],
   "source": [
    "df.to_excel('Lesson.xlsx', index=False)"
   ]
  },
  {
   "cell_type": "code",
   "execution_count": 26,
   "id": "299d1bde",
   "metadata": {},
   "outputs": [
    {
     "data": {
      "text/html": [
       "<div>\n",
       "<style scoped>\n",
       "    .dataframe tbody tr th:only-of-type {\n",
       "        vertical-align: middle;\n",
       "    }\n",
       "\n",
       "    .dataframe tbody tr th {\n",
       "        vertical-align: top;\n",
       "    }\n",
       "\n",
       "    .dataframe thead th {\n",
       "        text-align: right;\n",
       "    }\n",
       "</style>\n",
       "<table border=\"1\" class=\"dataframe\">\n",
       "  <thead>\n",
       "    <tr style=\"text-align: right;\">\n",
       "      <th></th>\n",
       "      <th>Name</th>\n",
       "      <th>Price</th>\n",
       "      <th>Config</th>\n",
       "    </tr>\n",
       "  </thead>\n",
       "  <tbody>\n",
       "    <tr>\n",
       "      <th>0</th>\n",
       "      <td>Xiaomi Redmi K60</td>\n",
       "      <td>Ціна від 17 337 до 17 833 грн</td>\n",
       "      <td>256 ГБ / ОЗП 12 ГБ</td>\n",
       "    </tr>\n",
       "    <tr>\n",
       "      <th>1</th>\n",
       "      <td>Apple iPhone 13 Pro</td>\n",
       "      <td>Ціна від 31 580 до 51 121 грн</td>\n",
       "      <td>128 ГБ</td>\n",
       "    </tr>\n",
       "    <tr>\n",
       "      <th>2</th>\n",
       "      <td>Xiaomi Redmi Note 12 4G</td>\n",
       "      <td>Ціна від 6 199 до 10 080 грн</td>\n",
       "      <td>128 ГБ / ОЗП 4 ГБ</td>\n",
       "    </tr>\n",
       "    <tr>\n",
       "      <th>3</th>\n",
       "      <td>Xiaomi Redmi 12</td>\n",
       "      <td>Ціна від 5 499 до 7 536 грн</td>\n",
       "      <td>128 ГБ / ОЗП 4 ГБ</td>\n",
       "    </tr>\n",
       "    <tr>\n",
       "      <th>4</th>\n",
       "      <td>Motorola Moto G32</td>\n",
       "      <td>Ціна від 5 767 до 8 279 грн</td>\n",
       "      <td>128 ГБ / ОЗП 6 ГБ</td>\n",
       "    </tr>\n",
       "    <tr>\n",
       "      <th>...</th>\n",
       "      <td>...</td>\n",
       "      <td>...</td>\n",
       "      <td>...</td>\n",
       "    </tr>\n",
       "    <tr>\n",
       "      <th>115</th>\n",
       "      <td>Realme C53</td>\n",
       "      <td>Ціна від 5 247 до 8 615 грн</td>\n",
       "      <td>128 ГБ</td>\n",
       "    </tr>\n",
       "    <tr>\n",
       "      <th>116</th>\n",
       "      <td>Samsung Galaxy M52 5G</td>\n",
       "      <td>Ціна від 6 446 до 13 497 грн</td>\n",
       "      <td>ОЗП 6 ГБ</td>\n",
       "    </tr>\n",
       "    <tr>\n",
       "      <th>117</th>\n",
       "      <td>Motorola Moto G23</td>\n",
       "      <td>Ціна від 6 197 до 10 771 грн</td>\n",
       "      <td>128 ГБ / ОЗП 8 ГБ</td>\n",
       "    </tr>\n",
       "    <tr>\n",
       "      <th>118</th>\n",
       "      <td>Samsung Galaxy S10</td>\n",
       "      <td>Ціна від 11 400 до 25 825 грн</td>\n",
       "      <td>128 ГБ</td>\n",
       "    </tr>\n",
       "    <tr>\n",
       "      <th>119</th>\n",
       "      <td>Apple iPhone SE</td>\n",
       "      <td>Ціна від 14 884 до 22 100 грн</td>\n",
       "      <td>64 ГБ</td>\n",
       "    </tr>\n",
       "  </tbody>\n",
       "</table>\n",
       "<p>120 rows × 3 columns</p>\n",
       "</div>"
      ],
      "text/plain": [
       "                        Name                          Price  \\\n",
       "0           Xiaomi Redmi K60  Ціна від 17 337 до 17 833 грн   \n",
       "1        Apple iPhone 13 Pro  Ціна від 31 580 до 51 121 грн   \n",
       "2    Xiaomi Redmi Note 12 4G   Ціна від 6 199 до 10 080 грн   \n",
       "3            Xiaomi Redmi 12    Ціна від 5 499 до 7 536 грн   \n",
       "4          Motorola Moto G32    Ціна від 5 767 до 8 279 грн   \n",
       "..                       ...                            ...   \n",
       "115               Realme C53    Ціна від 5 247 до 8 615 грн   \n",
       "116    Samsung Galaxy M52 5G   Ціна від 6 446 до 13 497 грн   \n",
       "117        Motorola Moto G23   Ціна від 6 197 до 10 771 грн   \n",
       "118       Samsung Galaxy S10  Ціна від 11 400 до 25 825 грн   \n",
       "119          Apple iPhone SE  Ціна від 14 884 до 22 100 грн   \n",
       "\n",
       "                 Config  \n",
       "0    256 ГБ / ОЗП 12 ГБ  \n",
       "1                128 ГБ  \n",
       "2     128 ГБ / ОЗП 4 ГБ  \n",
       "3     128 ГБ / ОЗП 4 ГБ  \n",
       "4     128 ГБ / ОЗП 6 ГБ  \n",
       "..                  ...  \n",
       "115              128 ГБ  \n",
       "116            ОЗП 6 ГБ  \n",
       "117   128 ГБ / ОЗП 8 ГБ  \n",
       "118              128 ГБ  \n",
       "119               64 ГБ  \n",
       "\n",
       "[120 rows x 3 columns]"
      ]
     },
     "execution_count": 26,
     "metadata": {},
     "output_type": "execute_result"
    }
   ],
   "source": [
    "df"
   ]
  },
  {
   "cell_type": "code",
   "execution_count": null,
   "id": "616d9e78",
   "metadata": {},
   "outputs": [],
   "source": []
  }
 ],
 "metadata": {
  "kernelspec": {
   "display_name": "Python 3 (ipykernel)",
   "language": "python",
   "name": "python3"
  },
  "language_info": {
   "codemirror_mode": {
    "name": "ipython",
    "version": 3
   },
   "file_extension": ".py",
   "mimetype": "text/x-python",
   "name": "python",
   "nbconvert_exporter": "python",
   "pygments_lexer": "ipython3",
   "version": "3.11.4"
  }
 },
 "nbformat": 4,
 "nbformat_minor": 5
}
