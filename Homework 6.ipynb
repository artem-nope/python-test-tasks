{
 "cells": [
  {
   "cell_type": "markdown",
   "id": "a7329d76",
   "metadata": {},
   "source": [
    "<b><div style=\"text-align: center;font-size: 24px;\">Список чисел</div></b><br>\n",
    "\n",
    "На вхід до програми подається одне число n. Напишіть програму, яка відображає список [1, 2, 3, ..., n].\n",
    "\n",
    "\n",
    "<b>Sample Input </b><br>\n",
    "10\n",
    "\n",
    "<b>Sample Output</b><br> \n",
    "[1, 2, 3, 4, 5, 6, 7, 8, 9, 10]"
   ]
  },
  {
   "cell_type": "code",
   "execution_count": 1,
   "id": "e356ae31",
   "metadata": {},
   "outputs": [
    {
     "name": "stdout",
     "output_type": "stream",
     "text": [
      "10\n",
      "[1, 2, 3, 4, 5, 6, 7, 8, 9, 10]\n"
     ]
    }
   ],
   "source": [
    "num = int(input())\n",
    "print([i for i in range(1, num + 1)])"
   ]
  },
  {
   "cell_type": "markdown",
   "id": "da8baa25",
   "metadata": {},
   "source": [
    "<b><div style=\"text-align: center;font-size: 24px;\">Список букв</div></b><br>\n",
    "\n",
    "На вхід до програми подається одне число n. Напишіть програму, яка виводить список, що складається з n букв англійського алфавіту ['a', 'b', 'c', ...] у нижньому регістрі.\n",
    "\n",
    "\n",
    "<b>Sample Input </b><br>\n",
    "5\n",
    "\n",
    "<b>Sample Output</b><br> \n",
    "['a', 'b', 'c', 'd', 'e']\n",
    "\n",
    "\n"
   ]
  },
  {
   "cell_type": "code",
   "execution_count": 4,
   "id": "e2461dbb",
   "metadata": {},
   "outputs": [
    {
     "name": "stdout",
     "output_type": "stream",
     "text": [
      "5\n",
      "['a', 'b', 'c', 'd', 'e']\n"
     ]
    }
   ],
   "source": [
    "abc = 'abcdefghijklmnopqrstuvwxyz'\n",
    "num = int(input())\n",
    "print([abc[i] for i in range(0, num)])"
   ]
  },
  {
   "cell_type": "markdown",
   "id": "9c7b3472",
   "metadata": {},
   "source": [
    "<b><div style=\"text-align: center;font-size: 24px;\">Все відразу 1 🌶️</div></b><br>\n",
    "\n",
    "Доповніть наведений код, щоб він:\n",
    "\n",
    "- Вивів довжину списку;\n",
    "- Вивів останній елемент списку;\n",
    "- Вивів список у зворотному порядку (згадуємо зрізи);\n",
    "- Вивив YES якщо список містить числа 5 і 17, і NO інакше;\n",
    "- Вивів список з віддаленим першим та останнім елементами.\n",
    "\n",
    "**Примітка.** Кожен висновок здійснювати з нового рядка."
   ]
  },
  {
   "cell_type": "code",
   "execution_count": 7,
   "id": "cb73d9d0",
   "metadata": {},
   "outputs": [
    {
     "name": "stdout",
     "output_type": "stream",
     "text": [
      "50\n",
      "5\n",
      "[5, 7, 6, 16, 14, 2, 1, 15, 1, 9, 14, 10, 2, 1, 12, 6, 5, 14, 12, 2, 8, 14, 6, 0, 0, 12, 10, 10, 11, 1, 5, 8, 10, 10, 16, 8, 0, 1, 16, 4, 5, 12, 16, 11, 4, 10, 14, 3, 6, 2]\n",
      "NO\n",
      "[6, 3, 14, 10, 4, 11, 16, 12, 5, 4, 16, 1, 0, 8, 16, 10, 10, 8, 5, 1, 11, 10, 10, 12, 0, 0, 6, 14, 8, 2, 12, 14, 5, 6, 12, 1, 2, 10, 14, 9, 1, 15, 1, 2, 14, 16, 6, 7]\n"
     ]
    }
   ],
   "source": [
    "numbers = [2, 6, 3, 14, 10, 4, 11, 16, 12, 5, 4, 16, 1, 0, 8, 16, 10, \n",
    "           10, 8, 5, 1, 11, 10, 10, 12, 0, 0, 6, 14, 8, 2, 12, 14, 5, \n",
    "           6, 12, 1, 2, 10, 14, 9, 1, 15, 1, 2, 14, 16, 6, 7, 5]\n",
    "print(len(numbers))\n",
    "print(numbers[-1])\n",
    "print(numbers[::-1])\n",
    "print('YES' if 5 in numbers and 17 in numbers else 'NO')\n",
    "print(numbers[1:-1])"
   ]
  },
  {
   "cell_type": "markdown",
   "id": "9c686fb0",
   "metadata": {},
   "source": [
    "<b><div style=\"text-align: center;font-size: 24px;\">Список дільників</div></b><br>\n",
    "\n",
    "На вхід програмі подається натуральне число n. Напишіть програму, яка створює список, що складається з дільників уведеного числа.\n",
    "\n",
    "\n",
    "<b>Sample Input </b><br>\n",
    "36\n",
    "\n",
    "<b>Sample Output</b><br> \n",
    "[1, 2, 3, 4, 6, 9, 12, 18, 36]\n"
   ]
  },
  {
   "cell_type": "code",
   "execution_count": 8,
   "id": "c66a4c2a",
   "metadata": {},
   "outputs": [
    {
     "name": "stdout",
     "output_type": "stream",
     "text": [
      "36\n",
      "[1, 2, 3, 4, 6, 9, 12, 18, 36]\n"
     ]
    }
   ],
   "source": [
    "num = int(input())\n",
    "lst = []\n",
    "for i in range(1, num + 1):\n",
    "    if num % i == 0:\n",
    "        lst.append(i)\n",
    "        \n",
    "print(lst)"
   ]
  },
  {
   "cell_type": "markdown",
   "id": "a2b66fd0",
   "metadata": {},
   "source": [
    "<b><div style=\"text-align: center;font-size: 24px;\">k-а літера слова 🌶️🌶️</div></b><br>\n",
    "\n",
    "На вхід програмі подається натуральне число n та n рядків, а потім число k. Напишіть програму, яка виводить k-у літеру із введених рядків на одному рядку без пробілів.\n",
    "\n",
    "**Формат вхідних даних**\n",
    "На вхід програмі подається натуральне число n, далі n рядків, кожен на окремому рядку. Наприкінці вводиться натуральне число k – номер літери (нумерація починається з одиниці).\n",
    "\n",
    "**Формат вихідних даних**\n",
    "Програма має вивести текст відповідно до умови завдання.\n",
    "\n",
    "**Примітка.** Якщо деякі рядки надто короткі, і в них немає символу із заданим номером, такі рядки при виведенні потрібно ігнорувати.\n",
    "\n",
    "\n",
    "<b>Sample Input </b><br>\n",
    "5  \n",
    "abcdef  \n",
    "bcdefg  \n",
    "cdefgh  \n",
    "defghi  \n",
    "efghij  \n",
    "2  \n",
    "\n",
    "<b>Sample Output</b><br> \n",
    "bcdef\n",
    "\n",
    "\n",
    "\n"
   ]
  },
  {
   "cell_type": "code",
   "execution_count": 14,
   "id": "52d4aa2d",
   "metadata": {},
   "outputs": [
    {
     "name": "stdout",
     "output_type": "stream",
     "text": [
      "5\n",
      "abcdef\n",
      "bcdefg\n",
      "cdefgh\n",
      "defghi\n",
      "efghij\n",
      "2\n",
      "bcdef"
     ]
    }
   ],
   "source": [
    "num = int(input())\n",
    "str_lst = [input() for i in range(num)]\n",
    "point = int(input())\n",
    "for w in str_lst:\n",
    "    if len(w) < point:\n",
    "        continue\n",
    "    print(w[point - 1], end='')\n"
   ]
  },
  {
   "cell_type": "markdown",
   "id": "b1ad57e6",
   "metadata": {},
   "source": [
    "<b><div style=\"text-align: center;font-size: 24px;\">Символи всіх рядків</div></b><br>\n",
    "\n",
    "На вхід програмі подається натуральне число n, а потім n рядків. Напишіть програму, яка створює список із символів усіх рядків, а потім виводить його.\n",
    "\n",
    "\n",
    "<b>Sample Input </b><br>\n",
    "3  \n",
    "abc  \n",
    "def  \n",
    "ghi  \n",
    "\n",
    "<b>Sample Output</b><br> \n",
    "['a', 'b', 'c', 'd', 'e', 'f', 'g', 'h', 'i']\n",
    "\n",
    "\n",
    "\n"
   ]
  },
  {
   "cell_type": "code",
   "execution_count": 24,
   "id": "3fccc076",
   "metadata": {},
   "outputs": [
    {
     "name": "stdout",
     "output_type": "stream",
     "text": [
      "3\n",
      "abc\n",
      "def\n",
      "ghi\n",
      "['a', 'b', 'c', 'd', 'e', 'f', 'g', 'h', 'i']\n"
     ]
    }
   ],
   "source": [
    "num = int(input())\n",
    "ch_lst = [input() for i in range(num)]\n",
    "print([i for i in''.join(ch_lst)])"
   ]
  },
  {
   "cell_type": "markdown",
   "id": "3f8a6524",
   "metadata": {},
   "source": [
    "### <b><div style=\"text-align: center;font-size: 24px;\">Діаграма</div></b><br>\n",
    "\n",
    "На вхід до програми подається рядок тексту, що містить цілі числа. Напишіть програму, яка за заданими числами будує стовпчасту діаграму.\n",
    "\n",
    "\n",
    "<b>Sample Input </b><br>\n",
    "5 3 7 10 2\n",
    "\n",
    "<b>Sample Output</b><br> \n",
    "+++++  \n",
    "+++    \n",
    "+++++++  \n",
    "++++++++++  \n",
    "++  \n",
    "\n",
    "\n",
    "\n"
   ]
  },
  {
   "cell_type": "code",
   "execution_count": 30,
   "id": "14e49927",
   "metadata": {},
   "outputs": [
    {
     "name": "stdout",
     "output_type": "stream",
     "text": [
      "5 3 7 10 2\n",
      "+++++\n",
      "+++\n",
      "+++++++\n",
      "++++++++++\n",
      "++\n"
     ]
    }
   ],
   "source": [
    "num_lst = map(int, input().split())\n",
    "for i in num_lst:\n",
    "    for j in range(i):\n",
    "        print('+',end='')\n",
    "    print()\n"
   ]
  },
  {
   "cell_type": "markdown",
   "id": "5309908a",
   "metadata": {},
   "source": [
    "<b><div style=\"text-align: center;font-size: 24px;\">Кількість пар, що збігаються</div></b><br>\n",
    "\n",
    "На вхід до програми подається рядок тексту, що містить цілі числа. З цього рядка формується перелік чисел. Напишіть програму, яка підраховує, скільки в отриманому списку пар елементів, рівних один одному. Вважається, що будь-які два елементи рівні один одному утворюють одну пару, яку необхідно порахувати.\n",
    "\n",
    "\n",
    "<b>Sample Input </b><br>\n",
    "1 7 5 7 5\n",
    "\n",
    "<b>Sample Output</b><br> \n",
    "2\n",
    "\n",
    "\n",
    "\n"
   ]
  },
  {
   "cell_type": "code",
   "execution_count": 46,
   "id": "8ffab26f",
   "metadata": {},
   "outputs": [
    {
     "name": "stdout",
     "output_type": "stream",
     "text": [
      "1 7 5 7 5\n",
      "2\n"
     ]
    }
   ],
   "source": [
    "num_lst = list(map(int, input().split()))\n",
    "num_set = set(num_lst)\n",
    "pairs = 0\n",
    "\n",
    "for i in num_set:\n",
    "    if num_lst.count(i) > 1:\n",
    "        pairs += 1\n",
    "print(pairs)"
   ]
  },
  {
   "cell_type": "markdown",
   "id": "265f1d3e",
   "metadata": {},
   "source": [
    "<b><div style=\"text-align: center;font-size: 24px;\">Переставити min та max</div></b><br>\n",
    "\n",
    "На вхід до програми подається рядок тексту, що містить різні натуральні числа. З цього рядка формується перелік чисел. Напишіть програму, яка змінює місцями мінімальний та максимальний елемент цього списку.\n",
    "\n",
    "\n",
    "<b>Sample Input </b><br>\n",
    "3 4 5 2 1\n",
    "\n",
    "<b>Sample Output</b><br> \n",
    "3 4 1 2 5"
   ]
  },
  {
   "cell_type": "code",
   "execution_count": 74,
   "id": "601e4b20",
   "metadata": {},
   "outputs": [
    {
     "name": "stdout",
     "output_type": "stream",
     "text": [
      "3 4 5 2 1\n",
      "3 4 1 2 5\n"
     ]
    }
   ],
   "source": [
    "num_lst = list(map(int, input().split()))\n",
    "max_idx = num_lst.index(max(num_lst))\n",
    "min_idx = num_lst.index(min(num_lst))\n",
    "num_lst[max_idx], num_lst[min_idx] = num_lst[min_idx], num_lst[max_idx]\n",
    "print(*num_lst)\n"
   ]
  },
  {
   "cell_type": "markdown",
   "id": "f3a4431d",
   "metadata": {},
   "source": [
    "<b><div style=\"text-align: center;font-size: 24px;\">Сума чисел</div></b><br>\n",
    "\n",
    "На вхід до програми подається рядок тексту, що містить натуральні числа. Напишіть програму, яка вставляє між кожним числом знак + і обчислює суму отриманих чисел.\n",
    "\n",
    "\n",
    "\n",
    "<b>Sample Input </b><br>\n",
    "2 5 11 33 55\n",
    "\n",
    "<b>Sample Output</b><br> \n",
    "2+5+11+33+55=106\n"
   ]
  },
  {
   "cell_type": "code",
   "execution_count": 56,
   "id": "69b2f307",
   "metadata": {},
   "outputs": [
    {
     "name": "stdout",
     "output_type": "stream",
     "text": [
      "2 5 11 33 55\n",
      "2+5+11+33+55=106\n"
     ]
    }
   ],
   "source": [
    "num_lst = input().split()\n",
    "num_sum = 0\n",
    "res = '+'.join(num_lst)\n",
    "for i in num_lst:\n",
    "    num_sum += int(i)\n",
    "    \n",
    "print(f'{res}={num_sum}')"
   ]
  },
  {
   "cell_type": "markdown",
   "id": "c0a23d84",
   "metadata": {},
   "source": [
    "<b><div style=\"text-align: center;font-size: 24px;\">Валідний номер 🌶️🌶️</div></b><br>\n",
    "\n",
    "На вхід до програми подається рядок тексту. Напишіть програму, яка визначає, чи введений рядок є коректним телефонним номером. Рядок тексту є коректним номером, якщо він має формат:\n",
    "\n",
    "- abc-def-hijk або\n",
    "- 7-abc-def-hijk,\n",
    "\n",
    "де a, b, c, d, e, f, h, i, j, k цифри від 0 до 9.\n",
    "\n",
    "**Формат вхідних даних**\n",
    "На вхід до програми подається рядок тексту.\n",
    "\n",
    "**Формат вихідних даних**\n",
    "Програма повинна вивести YES, якщо рядок є коректним телефонним номером і NO в іншому випадку.\n",
    "\n",
    "**Примітка.** Телефонний номер повинен містити лише цифри та символ -, а кількість цифр у кожній групі має бути правильною.\n",
    "\n",
    "<b>Sample Input 1</b><br>\n",
    "7-301-447-5820\n",
    "\n",
    "<b>Sample Output 1</b><br> \n",
    "YES\n",
    "\n",
    "\n",
    "<br><br>\n",
    "\n",
    "<b>Sample Input 2</b><br>\n",
    "3X1-447-5820\n",
    "\n",
    "<b>Sample Output 2</b><br> \n",
    "NO\n"
   ]
  },
  {
   "cell_type": "code",
   "execution_count": 66,
   "id": "e0daa3b8",
   "metadata": {},
   "outputs": [
    {
     "name": "stdout",
     "output_type": "stream",
     "text": [
      "3X1-447-5820\n",
      "NO\n"
     ]
    }
   ],
   "source": [
    "phone = input().split('-')\n",
    "if phone[0] == '7' and len(phone[1]) == 3 and len(phone[2]) == 3 and len(phone[3]) == 4 and phone[1].isdigit() and phone[2].isdigit() and phone[3].isdigit:\n",
    "    print('YES')\n",
    "else:\n",
    "    print('NO')"
   ]
  },
  {
   "cell_type": "markdown",
   "id": "b2902a3b",
   "metadata": {},
   "source": [
    "<b><div style=\"text-align: center;font-size: 24px;\">Найдовший</div></b><br>\n",
    "\n",
    "На вхід до програми подається рядок тексту. Напишіть програму, яка використовує обліковий вираз, яка знаходить довжину найдовшого слова.\n",
    "\n",
    "\n",
    "<b>Sample Input </b><br>\n",
    "проспал почти всю ночь\n",
    "\n",
    "<b>Sample Output</b><br> \n",
    "7"
   ]
  },
  {
   "cell_type": "code",
   "execution_count": 67,
   "id": "065ecc33",
   "metadata": {},
   "outputs": [
    {
     "name": "stdout",
     "output_type": "stream",
     "text": [
      "проспал почти всю ночь\n",
      "7\n"
     ]
    }
   ],
   "source": [
    "str_in = input().split()\n",
    "max_len = -1\n",
    "for i in str_in:\n",
    "    if len(i) > max_len:\n",
    "        max_len = len(i)\n",
    "print(max_len)"
   ]
  },
  {
   "cell_type": "markdown",
   "id": "ea8d5aa1",
   "metadata": {},
   "source": [
    "<b><div style=\"text-align: center;font-size: 24px;\">Молодіжний жаргон</div></b><br>\n",
    "\n",
    "На вхід до програми подається рядок тексту. Напишіть програму, яка використовує списковий вираз, яка перетворює кожне слово введеного тексту на \"молодіжний жаргон\" за таким правилом:\n",
    "\n",
    "перша літера кожного слова видаляється і ставиться до кінця слова;\n",
    "потім до кінця слова додається склад \"ки\".\n",
    "\n",
    "<b>Sample Input </b><br>\n",
    "проспал почти всю ночь\n",
    "\n",
    "<b>Sample Output</b><br> \n",
    "роспалпки очтипки сювки очьнки\n",
    "\n",
    "\n",
    "\n"
   ]
  },
  {
   "cell_type": "code",
   "execution_count": 72,
   "id": "5de46a44",
   "metadata": {},
   "outputs": [
    {
     "name": "stdout",
     "output_type": "stream",
     "text": [
      "проспал почти всю ночь\n",
      "роспалпки очтипки сювки очьнки "
     ]
    }
   ],
   "source": [
    "str_in = input().split()\n",
    "for w in str_in:\n",
    "    w = w[1:] + w[0] + 'ки'\n",
    "    print(w, end=' ')"
   ]
  },
  {
   "cell_type": "code",
   "execution_count": null,
   "id": "263f5fc1",
   "metadata": {},
   "outputs": [],
   "source": []
  }
 ],
 "metadata": {
  "kernelspec": {
   "display_name": "Python 3 (ipykernel)",
   "language": "python",
   "name": "python3"
  },
  "language_info": {
   "codemirror_mode": {
    "name": "ipython",
    "version": 3
   },
   "file_extension": ".py",
   "mimetype": "text/x-python",
   "name": "python",
   "nbconvert_exporter": "python",
   "pygments_lexer": "ipython3",
   "version": "3.11.4"
  }
 },
 "nbformat": 4,
 "nbformat_minor": 5
}
